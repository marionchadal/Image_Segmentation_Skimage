{
 "cells": [
  {
   "cell_type": "markdown",
   "id": "f5284a65-f7d0-42c5-bc2f-7a1b7d69c7a6",
   "metadata": {},
   "source": [
    "# **Libraries import**"
   ]
  },
  {
   "cell_type": "code",
   "execution_count": 3,
   "id": "4b9e443d-3020-4bc0-9386-d8b1406db439",
   "metadata": {},
   "outputs": [],
   "source": [
    "import numpy as np\n",
    "from skimage import (exposure, filters, measure, morphology, util)\n",
    "import tifffile as tif\n",
    "from pathlib import Path\n",
    "from PIL import Image\n",
    "import napari"
   ]
  },
  {
   "cell_type": "markdown",
   "id": "d0885cac-4b14-4927-823f-768203981617",
   "metadata": {},
   "source": [
    "# **Image preparation**"
   ]
  },
  {
   "cell_type": "code",
   "execution_count": 4,
   "id": "9daa81d7-2f09-45a7-8442-ad75d2540578",
   "metadata": {},
   "outputs": [],
   "source": [
    "class Image_preparation():\n",
    "    \n",
    "    def __init__(self):\n",
    "        self.image_path = image_path\n",
    "        \n",
    "    def reading_image(self):\n",
    "        image = Image.open(image_path)\n",
    "        image = np.array(image)\n",
    "        return image\n",
    "    \n",
    "    def info_image(image):\n",
    "        print(\"Image shape: {}\".format(image.shape))\n",
    "        print(\"Image data type: {}\".format(image.dtype))\n",
    "        print(\"Image range: ({}, {})\".format(np.min(image), np.max(image)))\n",
    "        \n",
    "    def show_plane(ax, plane, cmap=\"gray\", title=None):\n",
    "        ax.imshow(plane, cmap=cmap)\n",
    "        ax.axis(\"off\")\n",
    "\n",
    "        if title:\n",
    "            ax.set_title(title)\n",
    "        \n",
    "    def show_image(image):\n",
    "        (n_plane, n_row, n_col) = image.shape\n",
    "        _, (a, b, c) = plt.subplots(ncols=3, figsize=(15, 5))\n",
    "        show_plane(a, image[n_plane // 2], title=f'Plane = {n_plane // 2}')\n",
    "        show_plane(b, image[:, n_row // 2, :], title=f'Row = {n_row // 2}')\n",
    "        show_plane(c, image[:, :, n_col // 2], title=f'Column = {n_col // 2}')"
   ]
  },
  {
   "cell_type": "markdown",
   "id": "3017297e-142a-4d12-a98e-aca8bcf3a6ff",
   "metadata": {},
   "source": [
    "# **2D segmentation**"
   ]
  },
  {
   "cell_type": "code",
   "execution_count": 6,
   "id": "b2c3dd1c-dd02-4732-abce-ceb12e9c6b6c",
   "metadata": {},
   "outputs": [],
   "source": [
    "class Segmentation_2D():\n",
    "    \n",
    "    def __init__(self):\n",
    "        self.image = image\n",
    "    \n",
    "    def from_3D_to_2D(image):\n",
    "        image_2D = image[n_plane // 2]\n",
    "        return image_2D\n",
    "        \n",
    "    def image_processing(image_2D, sigma):\n",
    "        \n",
    "        # Applying the adapted histogram equalization \n",
    "        image_ahe = exposure.equalize_adapthist(image_2D) \n",
    "        \n",
    "        # Deleting extreme pixel values to avoid salt and pepper noise\n",
    "        vmin, vmax = np.quantile(image_ahe, q=(0.05, 0.95))\n",
    "        stretched = exposure.rescale_intensity(\n",
    "            image_ahe, \n",
    "            in_range=(vmin, vmax), \n",
    "            out_range=np.float32) \n",
    "        \n",
    "        # Applying a gaussian filter with sigma = 4\n",
    "        filtered_image = skimage.filters.gaussian(stretched, sigma = sigma)\n",
    "        return filtered_image\n",
    "        \n",
    "    def segmentation_2D(filtered_image):       \n",
    "        # Applying the Otsu threshold method\n",
    "        thresh = skimage.filters.threshold_otsu(filtered_image)\n",
    "        binary = filtered_image > thresh \n",
    "        return binary\n",
    "        \n",
    "    def cleaning(binary, width):\n",
    "        filled = ndi.binary_fill_holes(binary)\n",
    "        opened = ndi.binary_opening(filled)\n",
    "        holes = morphology.remove_small_holes(opened, area_threshold = width * 10)\n",
    "        result = morphology.remove_small_objects(holes, min_size = width * 30, connectivity = 100)\n",
    "        return result\n",
    "        \n",
    "    def show_result(image_2D, result):\n",
    "        _, (a, b) = plt.subplots(ncols=2, figsize=(15, 5))\n",
    "        show_plane(a, image_2D, title=f'Original')\n",
    "        show_plane(b, result, title=f'Segmented')"
   ]
  },
  {
   "cell_type": "markdown",
   "id": "c386cc9b-9ae4-44a8-93c2-bb782b317a58",
   "metadata": {},
   "source": [
    "# **3D segmentation**"
   ]
  },
  {
   "cell_type": "code",
   "execution_count": null,
   "id": "d27e74cd-ca90-4ae5-b2a0-90f524725ad6",
   "metadata": {},
   "outputs": [],
   "source": [
    "class Segmentation_3D():\n",
    "    \n",
    "    def __init__(self):\n",
    "        self.image = image\n",
    "        \n",
    "    def image_processing(image):\n",
    "        \n",
    "        # Applying the adapted histogram equalization \n",
    "        image_ahe_3D = exposure.equalize_adapthist(image) \n",
    "        \n",
    "        # Deleting extreme pixel values to avoid salt and pepper noise\n",
    "        vmin, vmax = np.quantile(image_ahe, q=(0.05, 0.95))\n",
    "        stretched_3D = exposure.rescale_intensity(\n",
    "            image_ahe_3D, \n",
    "            in_range=(vmin, vmax), \n",
    "            out_range=np.float32)\n",
    "        \n",
    "        # Applying a gaussian filter with sigma = 4\n",
    "        filtered_image_3D = skimage.filters.gaussian(stretched_3D, sigma = 2)\n",
    "        return filtered_image_3D\n",
    "    \n",
    "    def segmentation_3D(filtered_image_3D):\n",
    "        # Applying the Otsu threshold method\n",
    "        thresh = skimage.filters.threshold_otsu(filtered_image_3D)\n",
    "        binary = filtered_image_3D > thresh \n",
    "        return binary\n",
    "    \n",
    "    def cleaning(binary, width):\n",
    "        filled = ndi.binary_fill_holes(binary)\n",
    "        opened = ndi.binary_opening(filled)\n",
    "        holes = morphology.remove_small_holes(opened, area_threshold = width * 10)\n",
    "        result = morphology.remove_small_objects(holes, min_size = width * 30, connectivity = 100)\n",
    "        return result\n",
    "        \n",
    "    def show_result(image, result):\n",
    "        viewer = napari.view_image(image)\n",
    "        viewer.add_image(result)"
   ]
  },
  {
   "cell_type": "markdown",
   "id": "150f405b-e2b5-48dc-844a-e6e829801043",
   "metadata": {},
   "source": [
    "# **Measurements**"
   ]
  },
  {
   "cell_type": "code",
   "execution_count": null,
   "id": "f6f8255b-604b-4ec9-825c-c9e92bb3c013",
   "metadata": {},
   "outputs": [],
   "source": [
    "class Measurements():\n",
    "    \n",
    "    def __init__(self):\n",
    "        self.result = result\n",
    "    \n",
    "    def regions_labeling(self):\n",
    "        image = util.img_as_ubyte(result) > 110\n",
    "        labels_image = measure.label(result, connectivity=image.ndim)\n",
    "        regions = measure.regionprops(labels_image)\n",
    "        return regions\n",
    "    \n",
    "    def get_regions_info(regions, spacing_row, spacing_col):\n",
    "        info_table = pd.DataFrame(measure.regionprops_table(label_img, properties=['area', 'major_axis_length', 'minor_axis_length']))\n",
    "        per_pixel_area = spacing_row * spacing_col\n",
    "        num_white_pixels = np.nonzero(result)\n",
    "        info_table['area (mm²)'] = info_table['area'] * per_pixel_area\n",
    "        return info_table"
   ]
  }
 ],
 "metadata": {
  "kernelspec": {
   "display_name": "Python 3",
   "language": "python",
   "name": "python3"
  },
  "language_info": {
   "codemirror_mode": {
    "name": "ipython",
    "version": 3
   },
   "file_extension": ".py",
   "mimetype": "text/x-python",
   "name": "python",
   "nbconvert_exporter": "python",
   "pygments_lexer": "ipython3",
   "version": "3.6.13"
  }
 },
 "nbformat": 4,
 "nbformat_minor": 5
}
